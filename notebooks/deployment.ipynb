{
 "cells": [
  {
   "cell_type": "code",
   "execution_count": 1,
   "metadata": {},
   "outputs": [
    {
     "name": "stderr",
     "output_type": "stream",
     "text": [
      "c:\\Users\\kings\\miniconda3\\lib\\site-packages\\tqdm\\auto.py:22: TqdmWarning: IProgress not found. Please update jupyter and ipywidgets. See https://ipywidgets.readthedocs.io/en/stable/user_install.html\n",
      "  from .autonotebook import tqdm as notebook_tqdm\n"
     ]
    }
   ],
   "source": [
    "import pickle\n",
    "import gradio as gr\n",
    "import pandas as pd\n",
    "# import numpy as np"
   ]
  },
  {
   "cell_type": "code",
   "execution_count": 2,
   "metadata": {},
   "outputs": [
    {
     "name": "stdout",
     "output_type": "stream",
     "text": [
      "1.2\n"
     ]
    }
   ],
   "source": [
    "import catboost\n",
    "print(catboost.__version__)"
   ]
  },
  {
   "cell_type": "code",
   "execution_count": 15,
   "metadata": {},
   "outputs": [],
   "source": [
    "def predict_car(brand, model, reg_year, mileage, condition, fuel, body, colour):\n",
    "    # Prepare the input features for prediction\n",
    "    input_features = pd.DataFrame({\n",
    "        'mileage': [mileage],\n",
    "        'standard_colour':[colour],\n",
    "        'standard_make': [brand],\n",
    "        'standard_model': [model],\n",
    "        'vehicle_condition': [condition],\n",
    "        'year_of_registration': [int(reg_year)],\n",
    "        'body_type': [body],\n",
    "        'fuel_type': [fuel],\n",
    "    })\n",
    "\n",
    "    enc = pickle.load(open(\"../car_price_app/encoder.pkl\",\"rb\"))\n",
    "    input_features = enc.transform(input_features)\n",
    "    model = pickle.load(open(\"../car_price_app/carmodel.pickle\",\"rb\"))\n",
    "\n",
    "    # Make predictions on the input features\n",
    "    predicted_price = model.predict(input_features)\n",
    "\n",
    "    return \"£{}\".format(round(predicted_price[0], 2))\n"
   ]
  },
  {
   "cell_type": "code",
   "execution_count": 16,
   "metadata": {},
   "outputs": [
    {
     "data": {
      "text/plain": [
       "14741.27"
      ]
     },
     "execution_count": 16,
     "metadata": {},
     "output_type": "execute_result"
    }
   ],
   "source": [
    "predict_car(\"VAUXHALL\", \"CROSSLANDX\", 2020, 5984, \"USED\", \"PETROL\",\"SUV\",\"WHITE\")"
   ]
  },
  {
   "cell_type": "code",
   "execution_count": 31,
   "metadata": {},
   "outputs": [
    {
     "data": {
      "text/html": [
       "<div>\n",
       "<style scoped>\n",
       "    .dataframe tbody tr th:only-of-type {\n",
       "        vertical-align: middle;\n",
       "    }\n",
       "\n",
       "    .dataframe tbody tr th {\n",
       "        vertical-align: top;\n",
       "    }\n",
       "\n",
       "    .dataframe thead th {\n",
       "        text-align: right;\n",
       "    }\n",
       "</style>\n",
       "<table border=\"1\" class=\"dataframe\">\n",
       "  <thead>\n",
       "    <tr style=\"text-align: right;\">\n",
       "      <th></th>\n",
       "      <th>mileage</th>\n",
       "      <th>reg_code</th>\n",
       "      <th>standard_colour</th>\n",
       "      <th>standard_make</th>\n",
       "      <th>standard_model</th>\n",
       "      <th>vehicle_condition</th>\n",
       "      <th>year_of_registration</th>\n",
       "      <th>price</th>\n",
       "      <th>body_type</th>\n",
       "      <th>crossover_car_and_van</th>\n",
       "      <th>fuel_type</th>\n",
       "      <th>advert_year</th>\n",
       "      <th>vehicle_age</th>\n",
       "      <th>avg_miles_per_year</th>\n",
       "    </tr>\n",
       "  </thead>\n",
       "  <tbody>\n",
       "    <tr>\n",
       "      <th>0</th>\n",
       "      <td>6000</td>\n",
       "      <td>69</td>\n",
       "      <td>WHITE</td>\n",
       "      <td>KIA</td>\n",
       "      <td>CEED</td>\n",
       "      <td>USED</td>\n",
       "      <td>2019</td>\n",
       "      <td>14495</td>\n",
       "      <td>HATCHBACK</td>\n",
       "      <td>0</td>\n",
       "      <td>DIESEL</td>\n",
       "      <td>2020</td>\n",
       "      <td>1</td>\n",
       "      <td>6000</td>\n",
       "    </tr>\n",
       "    <tr>\n",
       "      <th>1</th>\n",
       "      <td>60000</td>\n",
       "      <td>64</td>\n",
       "      <td>BLACK</td>\n",
       "      <td>AUDI</td>\n",
       "      <td>A1</td>\n",
       "      <td>USED</td>\n",
       "      <td>2014</td>\n",
       "      <td>8500</td>\n",
       "      <td>HATCHBACK</td>\n",
       "      <td>0</td>\n",
       "      <td>PETROL</td>\n",
       "      <td>2020</td>\n",
       "      <td>6</td>\n",
       "      <td>10000</td>\n",
       "    </tr>\n",
       "    <tr>\n",
       "      <th>2</th>\n",
       "      <td>14598</td>\n",
       "      <td>66</td>\n",
       "      <td>GREEN</td>\n",
       "      <td>KIA</td>\n",
       "      <td>SPORTAGE</td>\n",
       "      <td>USED</td>\n",
       "      <td>2016</td>\n",
       "      <td>16500</td>\n",
       "      <td>SUV</td>\n",
       "      <td>0</td>\n",
       "      <td>DIESEL</td>\n",
       "      <td>2020</td>\n",
       "      <td>4</td>\n",
       "      <td>3649</td>\n",
       "    </tr>\n",
       "    <tr>\n",
       "      <th>3</th>\n",
       "      <td>5267</td>\n",
       "      <td>20</td>\n",
       "      <td>BLUE</td>\n",
       "      <td>SKODA</td>\n",
       "      <td>SUPERB</td>\n",
       "      <td>USED</td>\n",
       "      <td>2020</td>\n",
       "      <td>29990</td>\n",
       "      <td>HATCHBACK</td>\n",
       "      <td>0</td>\n",
       "      <td>PETROLPLUG-INHYBRID</td>\n",
       "      <td>2020</td>\n",
       "      <td>0</td>\n",
       "      <td>5267</td>\n",
       "    </tr>\n",
       "    <tr>\n",
       "      <th>4</th>\n",
       "      <td>70928</td>\n",
       "      <td>16</td>\n",
       "      <td>BLACK</td>\n",
       "      <td>LANDROVER</td>\n",
       "      <td>DISCOVERYSPORT</td>\n",
       "      <td>USED</td>\n",
       "      <td>2016</td>\n",
       "      <td>18000</td>\n",
       "      <td>SUV</td>\n",
       "      <td>0</td>\n",
       "      <td>DIESEL</td>\n",
       "      <td>2020</td>\n",
       "      <td>4</td>\n",
       "      <td>17732</td>\n",
       "    </tr>\n",
       "    <tr>\n",
       "      <th>...</th>\n",
       "      <td>...</td>\n",
       "      <td>...</td>\n",
       "      <td>...</td>\n",
       "      <td>...</td>\n",
       "      <td>...</td>\n",
       "      <td>...</td>\n",
       "      <td>...</td>\n",
       "      <td>...</td>\n",
       "      <td>...</td>\n",
       "      <td>...</td>\n",
       "      <td>...</td>\n",
       "      <td>...</td>\n",
       "      <td>...</td>\n",
       "      <td>...</td>\n",
       "    </tr>\n",
       "    <tr>\n",
       "      <th>36532</th>\n",
       "      <td>7605</td>\n",
       "      <td>69</td>\n",
       "      <td>GREY</td>\n",
       "      <td>MERCEDES-BENZ</td>\n",
       "      <td>CCLASS</td>\n",
       "      <td>USED</td>\n",
       "      <td>2019</td>\n",
       "      <td>24795</td>\n",
       "      <td>ESTATE</td>\n",
       "      <td>0</td>\n",
       "      <td>PETROL</td>\n",
       "      <td>2020</td>\n",
       "      <td>1</td>\n",
       "      <td>7605</td>\n",
       "    </tr>\n",
       "    <tr>\n",
       "      <th>36533</th>\n",
       "      <td>24000</td>\n",
       "      <td>63</td>\n",
       "      <td>YELLOW</td>\n",
       "      <td>FIAT</td>\n",
       "      <td>500C</td>\n",
       "      <td>USED</td>\n",
       "      <td>2013</td>\n",
       "      <td>6047</td>\n",
       "      <td>CONVERTIBLE</td>\n",
       "      <td>0</td>\n",
       "      <td>PETROL</td>\n",
       "      <td>2020</td>\n",
       "      <td>7</td>\n",
       "      <td>3428</td>\n",
       "    </tr>\n",
       "    <tr>\n",
       "      <th>36534</th>\n",
       "      <td>9800</td>\n",
       "      <td>65</td>\n",
       "      <td>BLUE</td>\n",
       "      <td>AUDI</td>\n",
       "      <td>S3</td>\n",
       "      <td>USED</td>\n",
       "      <td>2015</td>\n",
       "      <td>17995</td>\n",
       "      <td>HATCHBACK</td>\n",
       "      <td>0</td>\n",
       "      <td>PETROL</td>\n",
       "      <td>2020</td>\n",
       "      <td>5</td>\n",
       "      <td>1960</td>\n",
       "    </tr>\n",
       "    <tr>\n",
       "      <th>36535</th>\n",
       "      <td>96700</td>\n",
       "      <td>62</td>\n",
       "      <td>SILVER</td>\n",
       "      <td>KIA</td>\n",
       "      <td>OPTIMA</td>\n",
       "      <td>USED</td>\n",
       "      <td>2012</td>\n",
       "      <td>5274</td>\n",
       "      <td>SALOON</td>\n",
       "      <td>0</td>\n",
       "      <td>DIESEL</td>\n",
       "      <td>2020</td>\n",
       "      <td>8</td>\n",
       "      <td>12087</td>\n",
       "    </tr>\n",
       "    <tr>\n",
       "      <th>36536</th>\n",
       "      <td>69615</td>\n",
       "      <td>12</td>\n",
       "      <td>RED</td>\n",
       "      <td>LANDROVER</td>\n",
       "      <td>RANGEROVEREVOQUE</td>\n",
       "      <td>USED</td>\n",
       "      <td>2012</td>\n",
       "      <td>18491</td>\n",
       "      <td>SUV</td>\n",
       "      <td>0</td>\n",
       "      <td>DIESEL</td>\n",
       "      <td>2020</td>\n",
       "      <td>8</td>\n",
       "      <td>8701</td>\n",
       "    </tr>\n",
       "  </tbody>\n",
       "</table>\n",
       "<p>36537 rows × 14 columns</p>\n",
       "</div>"
      ],
      "text/plain": [
       "       mileage reg_code standard_colour  standard_make    standard_model  \\\n",
       "0         6000       69           WHITE            KIA              CEED   \n",
       "1        60000       64           BLACK           AUDI                A1   \n",
       "2        14598       66           GREEN            KIA          SPORTAGE   \n",
       "3         5267       20            BLUE          SKODA            SUPERB   \n",
       "4        70928       16           BLACK      LANDROVER    DISCOVERYSPORT   \n",
       "...        ...      ...             ...            ...               ...   \n",
       "36532     7605       69            GREY  MERCEDES-BENZ            CCLASS   \n",
       "36533    24000       63          YELLOW           FIAT              500C   \n",
       "36534     9800       65            BLUE           AUDI                S3   \n",
       "36535    96700       62          SILVER            KIA            OPTIMA   \n",
       "36536    69615       12             RED      LANDROVER  RANGEROVEREVOQUE   \n",
       "\n",
       "      vehicle_condition  year_of_registration  price    body_type  \\\n",
       "0                  USED                  2019  14495    HATCHBACK   \n",
       "1                  USED                  2014   8500    HATCHBACK   \n",
       "2                  USED                  2016  16500          SUV   \n",
       "3                  USED                  2020  29990    HATCHBACK   \n",
       "4                  USED                  2016  18000          SUV   \n",
       "...                 ...                   ...    ...          ...   \n",
       "36532              USED                  2019  24795       ESTATE   \n",
       "36533              USED                  2013   6047  CONVERTIBLE   \n",
       "36534              USED                  2015  17995    HATCHBACK   \n",
       "36535              USED                  2012   5274       SALOON   \n",
       "36536              USED                  2012  18491          SUV   \n",
       "\n",
       "       crossover_car_and_van            fuel_type  advert_year  vehicle_age  \\\n",
       "0                          0               DIESEL         2020            1   \n",
       "1                          0               PETROL         2020            6   \n",
       "2                          0               DIESEL         2020            4   \n",
       "3                          0  PETROLPLUG-INHYBRID         2020            0   \n",
       "4                          0               DIESEL         2020            4   \n",
       "...                      ...                  ...          ...          ...   \n",
       "36532                      0               PETROL         2020            1   \n",
       "36533                      0               PETROL         2020            7   \n",
       "36534                      0               PETROL         2020            5   \n",
       "36535                      0               DIESEL         2020            8   \n",
       "36536                      0               DIESEL         2020            8   \n",
       "\n",
       "       avg_miles_per_year  \n",
       "0                    6000  \n",
       "1                   10000  \n",
       "2                    3649  \n",
       "3                    5267  \n",
       "4                   17732  \n",
       "...                   ...  \n",
       "36532                7605  \n",
       "36533                3428  \n",
       "36534                1960  \n",
       "36535               12087  \n",
       "36536                8701  \n",
       "\n",
       "[36537 rows x 14 columns]"
      ]
     },
     "execution_count": 31,
     "metadata": {},
     "output_type": "execute_result"
    }
   ],
   "source": [
    "df = pd.read_csv(\"../data/sampled.csv\")\n",
    "df"
   ]
  },
  {
   "cell_type": "code",
   "execution_count": 18,
   "metadata": {},
   "outputs": [
    {
     "data": {
      "text/plain": [
       "1963"
      ]
     },
     "execution_count": 18,
     "metadata": {},
     "output_type": "execute_result"
    }
   ],
   "source": [
    "df['year_of_registration'].min()"
   ]
  },
  {
   "cell_type": "code",
   "execution_count": 19,
   "metadata": {},
   "outputs": [],
   "source": [
    "def search_car_model(search_term):\n",
    "\tresult_df = df[df['standard_make'].str.contains(search_term)]\n",
    "\treturn result_df['standard_model'].drop_duplicates().tolist()"
   ]
  },
  {
   "cell_type": "code",
   "execution_count": 20,
   "metadata": {},
   "outputs": [],
   "source": [
    "def search_body(model):\n",
    "    result_df = df[df['standard_model']==model]\n",
    "    return result_df['body_type'].drop_duplicates().tolist()"
   ]
  },
  {
   "cell_type": "code",
   "execution_count": 21,
   "metadata": {},
   "outputs": [
    {
     "data": {
      "text/plain": [
       "['HATCHBACK', 'ESTATE']"
      ]
     },
     "execution_count": 21,
     "metadata": {},
     "output_type": "execute_result"
    }
   ],
   "source": [
    "search_body(\"CEED\")"
   ]
  },
  {
   "cell_type": "code",
   "execution_count": 22,
   "metadata": {},
   "outputs": [
    {
     "data": {
      "text/plain": [
       "array(['HATCHBACK', 'ESTATE'], dtype=object)"
      ]
     },
     "execution_count": 22,
     "metadata": {},
     "output_type": "execute_result"
    }
   ],
   "source": [
    "kia = df.query(\"standard_make=='KIA'\")\n",
    "kia.query(\"standard_model=='CEED'\")['body_type'].unique()"
   ]
  },
  {
   "cell_type": "code",
   "execution_count": 23,
   "metadata": {},
   "outputs": [],
   "source": [
    "def search_fuel(model):\n",
    "    result_df = df[df['standard_model']==model]\n",
    "    return result_df['fuel_type'].drop_duplicates().tolist()"
   ]
  },
  {
   "cell_type": "code",
   "execution_count": 24,
   "metadata": {},
   "outputs": [
    {
     "data": {
      "text/plain": [
       "['DIESEL', 'PETROL', 'PETROLPLUG-INHYBRID']"
      ]
     },
     "execution_count": 24,
     "metadata": {},
     "output_type": "execute_result"
    }
   ],
   "source": [
    "search_fuel(\"CEED\")"
   ]
  },
  {
   "cell_type": "code",
   "execution_count": 28,
   "metadata": {},
   "outputs": [
    {
     "data": {
      "text/plain": [
       "DIESEL    272\n",
       "PETROL    152\n",
       "Name: fuel_type, dtype: int64"
      ]
     },
     "execution_count": 28,
     "metadata": {},
     "output_type": "execute_result"
    }
   ],
   "source": [
    "kia = df.query(\"standard_make=='KIA'\")\n",
    "ceed = kia.query(\"standard_model=='SPORTAGE'\")\n",
    "# ceed[ceed['fuel_type']==\"DIESEL\"]['year_of_registration'].unique()\n",
    "ceed['fuel_type'].value_counts()"
   ]
  },
  {
   "cell_type": "code",
   "execution_count": 29,
   "metadata": {},
   "outputs": [],
   "source": [
    "fueltype = ['BIFUEL','DIESEL','DIESELHYBRID','DIESELPLUG-INHYBRID','ELECTRIC','PETROL','PETROLHYBRID','PETROLPLUG-INHYBRID']\n",
    "bodytype = ['CAMPER','CONVERTIBLE','COUPE','ESTATE','HATCHBACK','LIMOUSINE','MINIBUS','MPV','PICKUP','SALOON','SUV','VANS']\n",
    "colours = ['BEIGE','BLACK','BLUE','BRONZE','BROWN','GREEN','GREY','MULTICOLOUR','ORANGE','PURPLE','RED','SILVER','WHITE','YELLOW','OTHER COLOUR']\n",
    "brands = df['standard_make'].drop_duplicates().values.tolist()\n",
    "models = df['standard_model'].drop_duplicates().values.tolist()"
   ]
  },
  {
   "cell_type": "code",
   "execution_count": 30,
   "metadata": {},
   "outputs": [],
   "source": [
    "brand_models = {brand: search_car_model(brand) for brand in brands}"
   ]
  },
  {
   "cell_type": "code",
   "execution_count": 16,
   "metadata": {},
   "outputs": [],
   "source": [
    "model_body = {model: search_body(model) for model in models}"
   ]
  },
  {
   "cell_type": "code",
   "execution_count": 17,
   "metadata": {},
   "outputs": [
    {
     "name": "stdout",
     "output_type": "stream",
     "text": [
      "Running on local URL:  http://127.0.0.1:7860\n",
      "\n",
      "To create a public link, set `share=True` in `launch()`.\n"
     ]
    },
    {
     "data": {
      "text/html": [
       "<div><iframe src=\"http://127.0.0.1:7860/\" width=\"100%\" height=\"500\" allow=\"autoplay; camera; microphone; clipboard-read; clipboard-write;\" frameborder=\"0\" allowfullscreen></iframe></div>"
      ],
      "text/plain": [
       "<IPython.core.display.HTML object>"
      ]
     },
     "metadata": {},
     "output_type": "display_data"
    },
    {
     "data": {
      "text/plain": []
     },
     "execution_count": 17,
     "metadata": {},
     "output_type": "execute_result"
    }
   ],
   "source": [
    "with gr.Blocks(gr.themes.Soft()) as demo:\n",
    "    gr.Markdown(\n",
    "    \"\"\"\n",
    "    # CAR PRICE PREDICTION\n",
    "\n",
    "    ### QUICK GUIDE\n",
    "    To enhance the user experience, Some engineering stunts were performed:\n",
    "    1. When you choose a car brand, the available models for that brand will be updated automatically in the model dropdown menu. \n",
    "    2. Similarly, when you choose a car model, the available body types and fuel types will be updated in the body types and fuel types dropdown menu respectively.\n",
    "    <br />\n",
    "    <br />\n",
    "    **NOTE**: the visibility of the car details section is updated when a brand is selected. This means that when you choose a brand, the additional car details section will become visible, year of registration, mileage, condition of the car(new used), and  specific details about the car. \n",
    "    \n",
    "    \"\"\"\n",
    "    )\n",
    "    colour = ['BEIGE','BLACK','BLUE','BRONZE','BROWN','GREEN','GREY','MULTICOLOUR','ORANGE','PURPLE','RED','SILVER','WHITE','YELLOW','OTHER COLOUR']\n",
    "    brands = df['standard_make'].drop_duplicates().values.tolist()\n",
    "    models = df['standard_model'].drop_duplicates().values.tolist()\n",
    "    car_brand = gr.Dropdown(label=\"Brand\", choices=brands)\n",
    "    car_model = gr.Dropdown(label=\"Model\", choices=[])\n",
    "    body = gr.Dropdown(label='Body Type', choices=[])\n",
    "    fuel = gr.Dropdown(label='Fuel Type', choices=[])\n",
    "\n",
    "    with gr.Column(visible=False) as details_col:\n",
    "        year = gr.Slider(1990, 2020, step=1, label=\"Year of Registration\")\n",
    "        mileage = gr.Textbox(label=\"Mileage\", placeholder=\"Input mileage...\")\n",
    "        condition = gr.Radio([\"New\", \"Used\"], label=\"Vehicle Condition\")\n",
    "        colour = gr.Dropdown(colour, label=\"Colour\")\n",
    "        generate_btn = gr.Button(\"Predict Price\")\n",
    "        gr.Markdown(\"Predicted Price:\")\n",
    "        output = gr.Text(label=\"Predict Price\")\n",
    "\n",
    "    brand_models = {brand: search_car_model(brand) for brand in brands}\n",
    "    model_body = {model: search_body(model) for model in models}\n",
    "    model_fuel = {model: search_fuel(model) for model in models}\n",
    "\n",
    "\n",
    "    def filter_models(car_brand):\n",
    "        return gr.Dropdown.update(\n",
    "            choices=brand_models[car_brand],value=brand_models[car_brand][0]\n",
    "        ), gr.update(visible=True)\n",
    "\n",
    "    car_brand.change(filter_models, car_brand,[car_model, details_col])\n",
    "\n",
    "    def filter_body(car_model):\n",
    "        return gr.Dropdown.update(\n",
    "            choices=model_body[car_model],value=model_body[car_model][0]\n",
    "        ), gr.update(visible=True)\n",
    "\n",
    "    car_model.change(filter_body, car_model,[body, details_col])\n",
    "\n",
    "    def filter_fuel(car_model):\n",
    "        return gr.Dropdown.update(\n",
    "            choices=model_fuel[car_model],value=model_fuel[car_model][0]\n",
    "        ), gr.update(visible=True)\n",
    "\n",
    "    car_model.change(filter_fuel, car_model,[fuel, details_col])\n",
    "\n",
    "    generate_btn.click(fn=predict_car, inputs=[car_brand, car_model, year, mileage, condition, fuel, body, colour],outputs=output)\n",
    "\n",
    "\n",
    "# if __name__ == \"__main__\":\n",
    "demo.launch()"
   ]
  },
  {
   "cell_type": "code",
   "execution_count": null,
   "metadata": {},
   "outputs": [],
   "source": []
  }
 ],
 "metadata": {
  "kernelspec": {
   "display_name": "base",
   "language": "python",
   "name": "python3"
  },
  "language_info": {
   "codemirror_mode": {
    "name": "ipython",
    "version": 3
   },
   "file_extension": ".py",
   "mimetype": "text/x-python",
   "name": "python",
   "nbconvert_exporter": "python",
   "pygments_lexer": "ipython3",
   "version": "3.10.8"
  },
  "orig_nbformat": 4
 },
 "nbformat": 4,
 "nbformat_minor": 2
}
